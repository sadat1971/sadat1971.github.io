{
  "nbformat": 4,
  "nbformat_minor": 0,
  "metadata": {
    "colab": {
      "provenance": [],
      "authorship_tag": "ABX9TyPHIJ0+eaMl2i/IoucrhLDT",
      "include_colab_link": true
    },
    "kernelspec": {
      "name": "python3",
      "display_name": "Python 3"
    },
    "language_info": {
      "name": "python"
    }
  },
  "cells": [
    {
      "cell_type": "markdown",
      "metadata": {
        "id": "view-in-github",
        "colab_type": "text"
      },
      "source": [
        "<a href=\"https://colab.research.google.com/github/sadat1971/sadat1971.github.io/blob/main/Neural_Network_from_scratch_Karpathy_style_(Part_1).ipynb\" target=\"_parent\"><img src=\"https://colab.research.google.com/assets/colab-badge.svg\" alt=\"Open In Colab\"/></a>"
      ]
    },
    {
      "cell_type": "code",
      "execution_count": 19,
      "metadata": {
        "id": "JgqbTyPun8_s"
      },
      "outputs": [],
      "source": [
        "import math\n",
        "import numpy as np\n",
        "import matplotlib.pyplot as plt\n",
        "%matplotlib inline"
      ]
    },
    {
      "cell_type": "code",
      "source": [
        "def f(x):\n",
        "    return 3*x**2 - 4*x + 5\n",
        "\n",
        "def compute_gradient(x, fun):\n",
        "    h = 0.0001\n",
        "    gradient = (fun(x + h) - fun(x)) / h\n",
        "    return gradient"
      ],
      "metadata": {
        "id": "hwPt9J4yn_VZ"
      },
      "execution_count": 20,
      "outputs": []
    },
    {
      "cell_type": "code",
      "source": [
        "compute_gradient(x=3, fun=f)"
      ],
      "metadata": {
        "colab": {
          "base_uri": "https://localhost:8080/"
        },
        "id": "uzfekqjBwXT-",
        "outputId": "d2ae5a03-89a9-4675-fbb3-b0e000843906"
      },
      "execution_count": 21,
      "outputs": [
        {
          "output_type": "execute_result",
          "data": {
            "text/plain": [
              "14.000300000063248"
            ]
          },
          "metadata": {},
          "execution_count": 21
        }
      ]
    },
    {
      "cell_type": "markdown",
      "source": [
        "## Building a network"
      ],
      "metadata": {
        "id": "P8QLC3pUxfDl"
      }
    },
    {
      "cell_type": "code",
      "source": [
        "class Value:\n",
        "    def __init__(self, data, _ancestors=(), _op='', label='', grad=0):\n",
        "        self.data = data  # The original numeric value\n",
        "        self._prev = set(_ancestors)  # Ancestor nodes in the computation graph\n",
        "        self._op = _op  # Operation that created this node\n",
        "        self.label = label  # Optional label for visualization\n",
        "        self.grad = grad\n",
        "        self._backward = lambda: None\n",
        "\n",
        "    def __repr__(self):\n",
        "        return f\"Value(data={self.data}, label={self.label})\"  # String representation of the Value object\n",
        "\n",
        "    def __add__(self, other):\n",
        "        # Overload '+' operator to create a new Value node\n",
        "        out = Value(self.data + other.data, (self, other), '+')\n",
        "        return out\n",
        "\n",
        "    def __neg__(self):\n",
        "        # Overload unary '-' operator to negate the value\n",
        "        return self * -1\n",
        "\n",
        "    def __sub__(self, other):\n",
        "        # Overload '-' operator as addition of a negated value\n",
        "        return self + (-other)\n",
        "\n",
        "    def __mul__(self, other):\n",
        "        # Overload '*' operator to create a new Value node\n",
        "        out = Value(self.data * other.data, (self, other), '*')\n",
        "        return out\n",
        "\n",
        "    def __pow__(self, other):\n",
        "        # Overload '**' operator for power with scalar exponents\n",
        "        assert isinstance(other, (int, float)), \"only supporting int or float powers for now\"\n",
        "        out = Value(self.data**other, (self,), f'**{other}')\n",
        "        return out\n",
        "\n",
        "    def __truediv__(self, other):\n",
        "        # Overload '/' operator as multiplication by reciprocal\n",
        "        return self * other**-1\n",
        "\n",
        "    def __radd__(self, other):\n",
        "        # Support reverse addition for non-Value types\n",
        "        return self + other\n",
        "\n",
        "    def __rmul__(self, other):\n",
        "        # Support reverse multiplication for non-Value types\n",
        "        return self * other\n"
      ],
      "metadata": {
        "id": "3OgjwqRmwb76"
      },
      "execution_count": 22,
      "outputs": []
    },
    {
      "cell_type": "code",
      "source": [
        "a = Value(2.0, label='a')\n",
        "b = Value(-3.0, label='b')\n",
        "c = Value(10, label='c')\n",
        "f = Value(-2.0, label='f')\n",
        "\n",
        "e = a*b; e.label='e'\n",
        "d = e+ c; d.label='d'\n",
        "L = d*f; L.label='L'\n",
        "L"
      ],
      "metadata": {
        "colab": {
          "base_uri": "https://localhost:8080/"
        },
        "id": "sfMwo6Qr0yZO",
        "outputId": "2de81a50-eef2-484b-859a-d62165869b07"
      },
      "execution_count": 23,
      "outputs": [
        {
          "output_type": "execute_result",
          "data": {
            "text/plain": [
              "Value(data=-8.0, label=L)"
            ]
          },
          "metadata": {},
          "execution_count": 23
        }
      ]
    },
    {
      "cell_type": "code",
      "source": [
        "print(\"L.data :\", L.data)\n",
        "print(\"L._op :\", L._op)\n",
        "print(\"L._prev :\", L._prev)\n"
      ],
      "metadata": {
        "colab": {
          "base_uri": "https://localhost:8080/"
        },
        "id": "JLZRFijG0142",
        "outputId": "21c6535a-ab5c-4e43-cd75-42e7867e0fd7"
      },
      "execution_count": 24,
      "outputs": [
        {
          "output_type": "stream",
          "name": "stdout",
          "text": [
            "L.data : -8.0\n",
            "L._op : *\n",
            "L._prev : {Value(data=4.0, label=d), Value(data=-2.0, label=f)}\n"
          ]
        }
      ]
    },
    {
      "cell_type": "code",
      "source": [],
      "metadata": {
        "id": "Fso-qTLU02pP"
      },
      "execution_count": 24,
      "outputs": []
    },
    {
      "cell_type": "markdown",
      "source": [
        "## Adding the gradient computation"
      ],
      "metadata": {
        "id": "Nv2rsI4g9j4j"
      }
    },
    {
      "cell_type": "code",
      "source": [
        "class Value:\n",
        "    def __init__(self, data, _ancestors=(), _op='', label='', grad=0):\n",
        "        self.data = data  # The original numeric value\n",
        "        self._prev = set(_ancestors)  # Ancestor nodes in the computation graph\n",
        "        self._op = _op  # Operation that created this node\n",
        "        self.label = label  # Optional label for visualization\n",
        "        self.grad = grad\n",
        "        self._backward = lambda: None\n",
        "\n",
        "    def __repr__(self):\n",
        "        return f\"Value(data={self.data}, label={self.label})\"  # String representation of the Value object\n",
        "\n",
        "    def __add__(self, other):\n",
        "        # Overload '+' operator to create a new Value node\n",
        "        ## The problem is, this way of addition will not enable us to add a value and an integer. So we do this:\n",
        "        other = other if isinstance(other, Value) else Value(other)\n",
        "        out = Value(self.data + other.data, (self,other), '+')\n",
        "\n",
        "        def _backward():\n",
        "            self.grad += 1.0*out.grad\n",
        "            other.grad += 1.0*out.grad\n",
        "\n",
        "        out._backward = _backward\n",
        "        return out\n",
        "\n",
        "    def __neg__(self):\n",
        "        # Overload unary '-' operator to negate the value\n",
        "        return self * -1\n",
        "\n",
        "    def __sub__(self, other):\n",
        "        # Overload '-' operator as addition of a negated value\n",
        "        return self + (-other)\n",
        "\n",
        "    def __mul__(self, other):\n",
        "        # Overload '*' operator to create a new Value node\n",
        "        ## The problem is, this way of multiplication will not enable us to add a value and an integer. So we do this:\n",
        "        other = other if isinstance(other, Value) else Value(other)\n",
        "        out = Value(self.data * other.data, (self,other), '*')\n",
        "        def _backward():\n",
        "            self.grad += other.data * out.grad\n",
        "            other.grad += self.data * out.grad\n",
        "\n",
        "        out._backward = _backward\n",
        "        return out\n",
        "\n",
        "    def __pow__(self, other):\n",
        "        # Overload '**' operator for power with scalar exponents\n",
        "        assert isinstance(other, (int, float)), \"only suporting int or float powers for now\"\n",
        "        out = Value(self.data**other, (self,), f'**{other}')\n",
        "\n",
        "        def _backward():\n",
        "            self.grad += other * (self.data **(other-1)) * out.grad\n",
        "\n",
        "        out._backward = _backward\n",
        "        return out\n",
        "\n",
        "    def __truediv__(self, other):\n",
        "        # Overload '/' operator as multiplication by reciprocal\n",
        "        return self * other**-1\n",
        "\n",
        "    def __radd__(self, other):\n",
        "        # Support reverse addition for non-Value types\n",
        "        return self + other\n",
        "\n",
        "    def __rmul__(self, other):\n",
        "        # Support reverse multiplication for non-Value types\n",
        "        return self * other\n"
      ],
      "metadata": {
        "id": "9bwtGs2V9lO-"
      },
      "execution_count": 25,
      "outputs": []
    },
    {
      "cell_type": "code",
      "source": [
        "a = Value(2.0, label='a')\n",
        "b = Value(-3.0, label='b')\n",
        "c = Value(10, label='c')\n",
        "f = Value(-2.0, label='f')\n",
        "\n",
        "e = a*b; e.label='e'\n",
        "d = e+ c; d.label='d'\n",
        "L = d*f; L.label='L'\n",
        "L\n",
        "\n",
        "L.grad = 1.0 #Gradient with respect to itself is 1\n",
        "\n",
        "#start backpropagating:\n",
        "print(\"gradual backpropagation...\\n\")\n",
        "\n",
        "L._backward()\n",
        "print(\"d.grad: \", d.grad)\n",
        "print(\"f.grad: \", f.grad)\n",
        "\n",
        "d._backward()\n",
        "print(\"e.grad: \", e.grad)\n",
        "print(\"c.grad: \", c.grad)\n",
        "\n",
        "e._backward()\n",
        "print(\"a.grad: \", a.grad)\n",
        "print(\"b.grad: \", b.grad)"
      ],
      "metadata": {
        "colab": {
          "base_uri": "https://localhost:8080/"
        },
        "id": "w5HNatDr-ZHM",
        "outputId": "b82a2f58-4012-40db-8c3c-7b1807491172"
      },
      "execution_count": 26,
      "outputs": [
        {
          "output_type": "stream",
          "name": "stdout",
          "text": [
            "gradual backpropagation...\n",
            "\n",
            "d.grad:  -2.0\n",
            "f.grad:  4.0\n",
            "e.grad:  -2.0\n",
            "c.grad:  -2.0\n",
            "a.grad:  6.0\n",
            "b.grad:  -4.0\n"
          ]
        }
      ]
    },
    {
      "cell_type": "code",
      "source": [],
      "metadata": {
        "id": "bJf6Uh0STuBF"
      },
      "execution_count": 26,
      "outputs": []
    },
    {
      "cell_type": "markdown",
      "source": [
        "## Effect of the gradients:\n",
        "\n",
        "\n",
        "\n"
      ],
      "metadata": {
        "id": "N3QDvtKeaqje"
      }
    },
    {
      "cell_type": "code",
      "source": [
        "a.data += .01*a.grad\n",
        "b.data += .01*b.grad\n",
        "c.data += .01*c.grad\n",
        "f.data += .01*f.grad"
      ],
      "metadata": {
        "id": "rO27K8iCay3P"
      },
      "execution_count": 29,
      "outputs": []
    },
    {
      "cell_type": "code",
      "source": [
        "e = a*b\n",
        "d = e + c\n",
        "L = d*f\n",
        "\n",
        "print(L.data)"
      ],
      "metadata": {
        "colab": {
          "base_uri": "https://localhost:8080/"
        },
        "id": "-wu_wiNray_0",
        "outputId": "45523c5a-91e9-4667-b8d8-7c09edaee913"
      },
      "execution_count": 30,
      "outputs": [
        {
          "output_type": "stream",
          "name": "stdout",
          "text": [
            "-6.586368000000001\n"
          ]
        }
      ]
    },
    {
      "cell_type": "markdown",
      "source": [
        "## Optional: visualization\n"
      ],
      "metadata": {
        "id": "UcP13B7LTJGK"
      }
    },
    {
      "cell_type": "code",
      "source": [
        "from graphviz import Digraph\n"
      ],
      "metadata": {
        "id": "hyJRW0GLTQZH"
      },
      "execution_count": null,
      "outputs": []
    },
    {
      "cell_type": "code",
      "source": [],
      "metadata": {
        "id": "boEBKACeCTO7"
      },
      "execution_count": null,
      "outputs": []
    },
    {
      "cell_type": "code",
      "source": [
        "def trace(root):\n",
        "    \"\"\"\n",
        "    Traces all nodes and edges in the computation graph starting from the given root.\n",
        "\n",
        "    Args:\n",
        "        root: The root node of the computation graph (typically the output of some computation).\n",
        "\n",
        "    Returns:\n",
        "        nodes: A set of all nodes in the computation graph.\n",
        "        edges: A set of edges (parent, child pairs) representing dependencies between nodes.\n",
        "    \"\"\"\n",
        "    nodes, edges = set(), set()  # Initialize sets to store nodes and edges in the computation graph\n",
        "\n",
        "    def build(v):\n",
        "        \"\"\"\n",
        "        Recursive helper function to traverse the computation graph and collect nodes and edges.\n",
        "        \"\"\"\n",
        "        if v not in nodes:  # Process the node only if it hasn't been visited\n",
        "            nodes.add(v)  # Add the current node to the set of nodes\n",
        "            for child in v._prev:  # Iterate over all ancestor nodes (dependencies)\n",
        "                edges.add((child, v))  # Add the edge from the ancestor to the current node\n",
        "                build(child)  # Recursively process the ancestor node\n",
        "\n",
        "    build(root)  # Start the traversal from the root node\n",
        "    return nodes, edges  # Return the sets of nodes and edges\n",
        "\n",
        "\n",
        "def draw_dot(root, format='svg', rankdir='LR'):\n",
        "    \"\"\"\n",
        "    Visualizes the computation graph using Graphviz.\n",
        "\n",
        "    Args:\n",
        "        root: The root node of the computation graph (typically the output of some computation).\n",
        "        format: The output format of the graph (e.g., 'png', 'svg').\n",
        "        rankdir: The layout direction of the graph ('TB' for top-to-bottom, 'LR' for left-to-right).\n",
        "\n",
        "    Returns:\n",
        "        A Graphviz Digraph object representing the computation graph.\n",
        "    \"\"\"\n",
        "    # Trace the computation graph to get nodes and edges\n",
        "    nodes, edges = trace(root)\n",
        "\n",
        "    # Initialize a Graphviz Digraph with specified format and layout direction\n",
        "    dot = Digraph(format=format, graph_attr={'rankdir': rankdir})\n",
        "\n",
        "    # Add nodes to the graph\n",
        "    for n in nodes:\n",
        "        # Create a node for each value in the graph with its label, data, and gradient\n",
        "        dot.node(\n",
        "            name=str(id(n)),  # Use the unique ID of the node as its identifier\n",
        "            label=\"{ %s | data %.4f | grad %.4f }\" % (n.label, n.data, n.grad),  # Show label, data, and gradient\n",
        "            shape='record'  # Use record-style nodes for better visualization\n",
        "        )\n",
        "        if n._op:  # If the node was created by an operation\n",
        "            # Add a node for the operation and connect it to the value node\n",
        "            dot.node(name=str(id(n)) + n._op, label=n._op)  # Label is the operation symbol\n",
        "            dot.edge(str(id(n)) + n._op, str(id(n)))  # Edge from operation node to value node\n",
        "\n",
        "    # Add edges to the graph\n",
        "    for n1, n2 in edges:\n",
        "        # Connect the parent node to the operation node of the child\n",
        "        dot.edge(str(id(n1)), str(id(n2)) + n2._op)\n",
        "\n",
        "    return dot  # Return the constructed Digraph\n"
      ],
      "metadata": {
        "id": "BRW_hrIIUFHD"
      },
      "execution_count": null,
      "outputs": []
    },
    {
      "cell_type": "code",
      "source": [
        "draw_dot(L)"
      ],
      "metadata": {
        "colab": {
          "base_uri": "https://localhost:8080/",
          "height": 227
        },
        "id": "cPks9hNSCUJ5",
        "outputId": "7cb1a064-3978-4712-98bc-70b079f8ce7b"
      },
      "execution_count": null,
      "outputs": [
        {
          "output_type": "execute_result",
          "data": {
            "image/svg+xml": "<?xml version=\"1.0\" encoding=\"UTF-8\" standalone=\"no\"?>\n<!DOCTYPE svg PUBLIC \"-//W3C//DTD SVG 1.1//EN\"\n \"http://www.w3.org/Graphics/SVG/1.1/DTD/svg11.dtd\">\n<!-- Generated by graphviz version 2.43.0 (0)\n -->\n<!-- Title: %3 Pages: 1 -->\n<svg width=\"1157pt\" height=\"154pt\"\n viewBox=\"0.00 0.00 1157.00 154.00\" xmlns=\"http://www.w3.org/2000/svg\" xmlns:xlink=\"http://www.w3.org/1999/xlink\">\n<g id=\"graph0\" class=\"graph\" transform=\"scale(1 1) rotate(0) translate(4 150)\">\n<title>%3</title>\n<polygon fill=\"white\" stroke=\"transparent\" points=\"-4,4 -4,-150 1153,-150 1153,4 -4,4\"/>\n<!-- 133364414764544 -->\n<g id=\"node1\" class=\"node\">\n<title>133364414764544</title>\n<polygon fill=\"none\" stroke=\"black\" points=\"642.5,-109.5 642.5,-145.5 830.5,-145.5 830.5,-109.5 642.5,-109.5\"/>\n<text text-anchor=\"middle\" x=\"653\" y=\"-123.8\" font-family=\"Times,serif\" font-size=\"14.00\">f</text>\n<polyline fill=\"none\" stroke=\"black\" points=\"663.5,-109.5 663.5,-145.5 \"/>\n<text text-anchor=\"middle\" x=\"706\" y=\"-123.8\" font-family=\"Times,serif\" font-size=\"14.00\">data &#45;2.0000</text>\n<polyline fill=\"none\" stroke=\"black\" points=\"748.5,-109.5 748.5,-145.5 \"/>\n<text text-anchor=\"middle\" x=\"789.5\" y=\"-123.8\" font-family=\"Times,serif\" font-size=\"14.00\">grad 4.0000</text>\n</g>\n<!-- 133364418732688* -->\n<g id=\"node6\" class=\"node\">\n<title>133364418732688*</title>\n<ellipse fill=\"none\" stroke=\"black\" cx=\"894\" cy=\"-99.5\" rx=\"27\" ry=\"18\"/>\n<text text-anchor=\"middle\" x=\"894\" y=\"-95.8\" font-family=\"Times,serif\" font-size=\"14.00\">*</text>\n</g>\n<!-- 133364414764544&#45;&gt;133364418732688* -->\n<g id=\"edge4\" class=\"edge\">\n<title>133364414764544&#45;&gt;133364418732688*</title>\n<path fill=\"none\" stroke=\"black\" d=\"M830.65,-110.73C840.2,-109.01 849.43,-107.35 857.72,-105.85\"/>\n<polygon fill=\"black\" stroke=\"black\" points=\"858.47,-109.27 867.69,-104.06 857.23,-102.39 858.47,-109.27\"/>\n</g>\n<!-- 133364418701408 -->\n<g id=\"node2\" class=\"node\">\n<title>133364418701408</title>\n<polygon fill=\"none\" stroke=\"black\" points=\"642,-54.5 642,-90.5 831,-90.5 831,-54.5 642,-54.5\"/>\n<text text-anchor=\"middle\" x=\"653.5\" y=\"-68.8\" font-family=\"Times,serif\" font-size=\"14.00\">d</text>\n<polyline fill=\"none\" stroke=\"black\" points=\"665,-54.5 665,-90.5 \"/>\n<text text-anchor=\"middle\" x=\"705\" y=\"-68.8\" font-family=\"Times,serif\" font-size=\"14.00\">data 4.0000</text>\n<polyline fill=\"none\" stroke=\"black\" points=\"745,-54.5 745,-90.5 \"/>\n<text text-anchor=\"middle\" x=\"788\" y=\"-68.8\" font-family=\"Times,serif\" font-size=\"14.00\">grad &#45;2.0000</text>\n</g>\n<!-- 133364418701408&#45;&gt;133364418732688* -->\n<g id=\"edge5\" class=\"edge\">\n<title>133364418701408&#45;&gt;133364418732688*</title>\n<path fill=\"none\" stroke=\"black\" d=\"M831.1,-88.75C840.4,-90.37 849.38,-91.93 857.49,-93.33\"/>\n<polygon fill=\"black\" stroke=\"black\" points=\"857.14,-96.83 867.59,-95.09 858.34,-89.93 857.14,-96.83\"/>\n</g>\n<!-- 133364418701408+ -->\n<g id=\"node3\" class=\"node\">\n<title>133364418701408+</title>\n<ellipse fill=\"none\" stroke=\"black\" cx=\"579\" cy=\"-72.5\" rx=\"27\" ry=\"18\"/>\n<text text-anchor=\"middle\" x=\"579\" y=\"-68.8\" font-family=\"Times,serif\" font-size=\"14.00\">+</text>\n</g>\n<!-- 133364418701408+&#45;&gt;133364418701408 -->\n<g id=\"edge1\" class=\"edge\">\n<title>133364418701408+&#45;&gt;133364418701408</title>\n<path fill=\"none\" stroke=\"black\" d=\"M606.03,-72.5C613.66,-72.5 622.52,-72.5 631.94,-72.5\"/>\n<polygon fill=\"black\" stroke=\"black\" points=\"631.94,-76 641.94,-72.5 631.94,-69 631.94,-76\"/>\n</g>\n<!-- 133364414771312 -->\n<g id=\"node4\" class=\"node\">\n<title>133364414771312</title>\n<polygon fill=\"none\" stroke=\"black\" points=\"0,-55.5 0,-91.5 194,-91.5 194,-55.5 0,-55.5\"/>\n<text text-anchor=\"middle\" x=\"11.5\" y=\"-69.8\" font-family=\"Times,serif\" font-size=\"14.00\">b</text>\n<polyline fill=\"none\" stroke=\"black\" points=\"23,-55.5 23,-91.5 \"/>\n<text text-anchor=\"middle\" x=\"65.5\" y=\"-69.8\" font-family=\"Times,serif\" font-size=\"14.00\">data &#45;3.0000</text>\n<polyline fill=\"none\" stroke=\"black\" points=\"108,-55.5 108,-91.5 \"/>\n<text text-anchor=\"middle\" x=\"151\" y=\"-69.8\" font-family=\"Times,serif\" font-size=\"14.00\">grad &#45;4.0000</text>\n</g>\n<!-- 133364418701120* -->\n<g id=\"node9\" class=\"node\">\n<title>133364418701120*</title>\n<ellipse fill=\"none\" stroke=\"black\" cx=\"257\" cy=\"-45.5\" rx=\"27\" ry=\"18\"/>\n<text text-anchor=\"middle\" x=\"257\" y=\"-41.8\" font-family=\"Times,serif\" font-size=\"14.00\">*</text>\n</g>\n<!-- 133364414771312&#45;&gt;133364418701120* -->\n<g id=\"edge6\" class=\"edge\">\n<title>133364414771312&#45;&gt;133364418701120*</title>\n<path fill=\"none\" stroke=\"black\" d=\"M194.01,-56.49C203.35,-54.83 212.37,-53.23 220.49,-51.79\"/>\n<polygon fill=\"black\" stroke=\"black\" points=\"221.37,-55.19 230.6,-50 220.15,-48.3 221.37,-55.19\"/>\n</g>\n<!-- 133364418732688 -->\n<g id=\"node5\" class=\"node\">\n<title>133364418732688</title>\n<polygon fill=\"none\" stroke=\"black\" points=\"957,-81.5 957,-117.5 1149,-117.5 1149,-81.5 957,-81.5\"/>\n<text text-anchor=\"middle\" x=\"969.5\" y=\"-95.8\" font-family=\"Times,serif\" font-size=\"14.00\">L</text>\n<polyline fill=\"none\" stroke=\"black\" points=\"982,-81.5 982,-117.5 \"/>\n<text text-anchor=\"middle\" x=\"1024.5\" y=\"-95.8\" font-family=\"Times,serif\" font-size=\"14.00\">data &#45;8.0000</text>\n<polyline fill=\"none\" stroke=\"black\" points=\"1067,-81.5 1067,-117.5 \"/>\n<text text-anchor=\"middle\" x=\"1108\" y=\"-95.8\" font-family=\"Times,serif\" font-size=\"14.00\">grad 1.0000</text>\n</g>\n<!-- 133364418732688*&#45;&gt;133364418732688 -->\n<g id=\"edge2\" class=\"edge\">\n<title>133364418732688*&#45;&gt;133364418732688</title>\n<path fill=\"none\" stroke=\"black\" d=\"M921.28,-99.5C928.78,-99.5 937.44,-99.5 946.67,-99.5\"/>\n<polygon fill=\"black\" stroke=\"black\" points=\"946.87,-103 956.87,-99.5 946.87,-96 946.87,-103\"/>\n</g>\n<!-- 133364414760176 -->\n<g id=\"node7\" class=\"node\">\n<title>133364414760176</title>\n<polygon fill=\"none\" stroke=\"black\" points=\"320,-82.5 320,-118.5 516,-118.5 516,-82.5 320,-82.5\"/>\n<text text-anchor=\"middle\" x=\"331.5\" y=\"-96.8\" font-family=\"Times,serif\" font-size=\"14.00\">c</text>\n<polyline fill=\"none\" stroke=\"black\" points=\"343,-82.5 343,-118.5 \"/>\n<text text-anchor=\"middle\" x=\"386.5\" y=\"-96.8\" font-family=\"Times,serif\" font-size=\"14.00\">data 10.0000</text>\n<polyline fill=\"none\" stroke=\"black\" points=\"430,-82.5 430,-118.5 \"/>\n<text text-anchor=\"middle\" x=\"473\" y=\"-96.8\" font-family=\"Times,serif\" font-size=\"14.00\">grad &#45;2.0000</text>\n</g>\n<!-- 133364414760176&#45;&gt;133364418701408+ -->\n<g id=\"edge8\" class=\"edge\">\n<title>133364414760176&#45;&gt;133364418701408+</title>\n<path fill=\"none\" stroke=\"black\" d=\"M516.07,-83.41C525.42,-81.76 534.43,-80.17 542.55,-78.74\"/>\n<polygon fill=\"black\" stroke=\"black\" points=\"543.41,-82.15 552.65,-76.96 542.2,-75.25 543.41,-82.15\"/>\n</g>\n<!-- 133364418701120 -->\n<g id=\"node8\" class=\"node\">\n<title>133364418701120</title>\n<polygon fill=\"none\" stroke=\"black\" points=\"321,-27.5 321,-63.5 515,-63.5 515,-27.5 321,-27.5\"/>\n<text text-anchor=\"middle\" x=\"332.5\" y=\"-41.8\" font-family=\"Times,serif\" font-size=\"14.00\">e</text>\n<polyline fill=\"none\" stroke=\"black\" points=\"344,-27.5 344,-63.5 \"/>\n<text text-anchor=\"middle\" x=\"386.5\" y=\"-41.8\" font-family=\"Times,serif\" font-size=\"14.00\">data &#45;6.0000</text>\n<polyline fill=\"none\" stroke=\"black\" points=\"429,-27.5 429,-63.5 \"/>\n<text text-anchor=\"middle\" x=\"472\" y=\"-41.8\" font-family=\"Times,serif\" font-size=\"14.00\">grad &#45;2.0000</text>\n</g>\n<!-- 133364418701120&#45;&gt;133364418701408+ -->\n<g id=\"edge9\" class=\"edge\">\n<title>133364418701120&#45;&gt;133364418701408+</title>\n<path fill=\"none\" stroke=\"black\" d=\"M515.16,-61.83C524.82,-63.47 534.13,-65.05 542.49,-66.47\"/>\n<polygon fill=\"black\" stroke=\"black\" points=\"542.09,-69.95 552.54,-68.18 543.26,-63.05 542.09,-69.95\"/>\n</g>\n<!-- 133364418701120*&#45;&gt;133364418701120 -->\n<g id=\"edge3\" class=\"edge\">\n<title>133364418701120*&#45;&gt;133364418701120</title>\n<path fill=\"none\" stroke=\"black\" d=\"M284.26,-45.5C292.05,-45.5 301.1,-45.5 310.75,-45.5\"/>\n<polygon fill=\"black\" stroke=\"black\" points=\"310.99,-49 320.99,-45.5 310.99,-42 310.99,-49\"/>\n</g>\n<!-- 133364414759264 -->\n<g id=\"node10\" class=\"node\">\n<title>133364414759264</title>\n<polygon fill=\"none\" stroke=\"black\" points=\"4.5,-0.5 4.5,-36.5 189.5,-36.5 189.5,-0.5 4.5,-0.5\"/>\n<text text-anchor=\"middle\" x=\"16\" y=\"-14.8\" font-family=\"Times,serif\" font-size=\"14.00\">a</text>\n<polyline fill=\"none\" stroke=\"black\" points=\"27.5,-0.5 27.5,-36.5 \"/>\n<text text-anchor=\"middle\" x=\"67.5\" y=\"-14.8\" font-family=\"Times,serif\" font-size=\"14.00\">data 2.0000</text>\n<polyline fill=\"none\" stroke=\"black\" points=\"107.5,-0.5 107.5,-36.5 \"/>\n<text text-anchor=\"middle\" x=\"148.5\" y=\"-14.8\" font-family=\"Times,serif\" font-size=\"14.00\">grad 6.0000</text>\n</g>\n<!-- 133364414759264&#45;&gt;133364418701120* -->\n<g id=\"edge7\" class=\"edge\">\n<title>133364414759264&#45;&gt;133364418701120*</title>\n<path fill=\"none\" stroke=\"black\" d=\"M189.91,-34.21C200.76,-36.06 211.28,-37.86 220.61,-39.45\"/>\n<polygon fill=\"black\" stroke=\"black\" points=\"220.16,-42.93 230.6,-41.16 221.34,-36.03 220.16,-42.93\"/>\n</g>\n</g>\n</svg>\n",
            "text/plain": [
              "<graphviz.graphs.Digraph at 0x794b52916fb0>"
            ]
          },
          "metadata": {},
          "execution_count": 18
        }
      ]
    },
    {
      "cell_type": "code",
      "source": [
        "##"
      ],
      "metadata": {
        "id": "qed-0mBmCpBr"
      },
      "execution_count": null,
      "outputs": []
    }
  ]
}